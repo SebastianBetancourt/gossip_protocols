{
 "cells": [
  {
   "cell_type": "code",
   "execution_count": null,
   "metadata": {},
   "outputs": [],
   "source": [
    "from GossipGraph import *\n",
    "from Scheduler import Scheduler"
   ]
  },
  {
   "cell_type": "code",
   "execution_count": null,
   "metadata": {},
   "outputs": [],
   "source": [
    "example2 = GossipDigraph([(\"a\", \"b\"), (\"c\", \"b\"), (\"c\", \"a\")])\n",
    "example2.make_call(\"a\", \"b\")\n",
    "example2.draw()"
   ]
  },
  {
   "cell_type": "code",
   "execution_count": null,
   "metadata": {},
   "outputs": [],
   "source": [
    "\n",
    "# Proposition 1: Correcteness depends on the scheduler\n",
    "exSch = GossipGraph([(\"a\", \"b\"), (\"c\", \"b\")])\n",
    "\n",
    "exSch.add_rule(\"a\", lambda g: not g.is_familiar_with(\"a\", \"C\"), ('a', 'b'))\n",
    "exSch.add_rule(\"b\", lambda g: g.is_familiar_with(\"b\", \"A\") and not g.is_familiar_with(\"b\", \"C\"), ('b', 'c'))\n",
    "exSch.draw()"
   ]
  },
  {
   "cell_type": "code",
   "execution_count": null,
   "metadata": {},
   "outputs": [],
   "source": [
    "# Agent-fair scheduler\n",
    "agentFair = Scheduler(choice_fn=Scheduler.agent_fair_choose)\n",
    "agentFair.run(exSch, n = 100)\n",
    "exSch.draw()"
   ]
  },
  {
   "cell_type": "code",
   "execution_count": null,
   "metadata": {},
   "outputs": [],
   "source": [
    "# non-fair scheduler\n",
    "exSch.reset()\n",
    "notFair = Scheduler(choice_fn=Scheduler.first_agent_first_rule_choose)\n",
    "notFair.run(exSch, n = 100)\n",
    "exSch.draw()"
   ]
  },
  {
   "cell_type": "code",
   "execution_count": null,
   "metadata": {},
   "outputs": [],
   "source": [
    "# Theorem 3: Strongly connected graphs have rule-fair protocols\n",
    "import networkx as nx\n",
    "import random\n",
    "\n",
    "nx.complete_graph(100)\n",
    "theo3 = GossipDigraph(nx.complete_graph(['a','b','c','d','e','f','g']))\n",
    "\n",
    "for agent_x in theo3:\n",
    "    for agent_y in theo3:\n",
    "        if agent_x != agent_y:\n",
    "            theo3.add_rule(agent_x, lambda g: not g.is_expert(agent_x), (agent_x, agent_y))\n",
    "\n",
    "theo3.draw()"
   ]
  },
  {
   "cell_type": "code",
   "execution_count": null,
   "metadata": {},
   "outputs": [],
   "source": [
    "# Agent-fair scheduler\n",
    "[random.shuffle(theo3.protocol[a]) for a in theo3]\n",
    "agentFair.run(theo3, n = 100)\n",
    "theo3.draw()"
   ]
  },
  {
   "cell_type": "code",
   "execution_count": null,
   "metadata": {},
   "outputs": [],
   "source": [
    "# Rule-fair scheduler\n",
    "ruleFair = Scheduler(choice_fn=Scheduler.rule_fair_choose)\n",
    "theo3.reset()\n",
    "ruleFair.run(theo3, n = 100)\n",
    "theo3.draw()"
   ]
  }
 ],
 "metadata": {
  "kernelspec": {
   "display_name": "Python 3",
   "language": "python",
   "name": "python3"
  },
  "language_info": {
   "codemirror_mode": {
    "name": "ipython",
    "version": 3
   },
   "file_extension": ".py",
   "mimetype": "text/x-python",
   "name": "python",
   "nbconvert_exporter": "python",
   "pygments_lexer": "ipython3",
   "version": "3.10.10"
  },
  "orig_nbformat": 4,
  "vscode": {
   "interpreter": {
    "hash": "f6b9d6e730bf6df7c9897fa1856547fd50d49d2d45d563ddaa6b6024ccbc1870"
   }
  }
 },
 "nbformat": 4,
 "nbformat_minor": 2
}
